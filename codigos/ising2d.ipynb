{
 "cells": [
  {
   "cell_type": "code",
   "execution_count": 52,
   "metadata": {},
   "outputs": [],
   "source": [
    "# Importacao de pacotes\n",
    "%matplotlib inline\n",
    "\n",
    "import matplotlib.pyplot as plt\n",
    "import matplotlib.animation as animation\n",
    "import numpy as np\n",
    "from ipywidgets import widgets\n",
    "from ising2d import *\n",
    "\n",
    "np.seterr(divide = 'ignore', invalid = 'ignore'); # ignora warnings sobre divisao por zero (no calculo da probabilidade de flipar os spins para T = 0)"
   ]
  },
  {
   "cell_type": "markdown",
   "metadata": {},
   "source": [
    "$$E = - J \\sum_{\\langle i, j \\rangle}\\sigma_i \\sigma_j - h \\sum_i \\sigma_i$$"
   ]
  },
  {
   "cell_type": "code",
   "execution_count": 53,
   "metadata": {},
   "outputs": [],
   "source": [
    "# Inicializacao das variaveis da simulacao\n",
    "L = 10 # tamanho do array de spins\n",
    "N = 1000 # numero de varreduras\n",
    "J = 1 # constante de interacao entre os spins\n",
    "h = 0 # constante de interacao do spin com o campo magnetico externo\n",
    "kB = 1 # constante de Boltzmann\n",
    "\n",
    "Tmin = 0 # temperatura minima (bem proxima de zero)\n",
    "Tmax = 5 # temperatura maxima\n",
    "DeltaT = 0.1 # passo das temperaturas\n",
    "vecT = np.arange(Tmin, Tmax + DeltaT, DeltaT) # vetor de temperaturas\n",
    "NT = len(vecT) # tamanho do vetor de temperaturas\n",
    "\n",
    "spins = np.zeros((L, L, N, NT))"
   ]
  },
  {
   "cell_type": "code",
   "execution_count": 54,
   "metadata": {},
   "outputs": [
    {
     "data": {
      "text/plain": [
       "(10, 10, 1000, 51)"
      ]
     },
     "execution_count": 54,
     "metadata": {},
     "output_type": "execute_result"
    }
   ],
   "source": [
    "spins.shape\n",
    "# (i, j, n, k)"
   ]
  },
  {
   "cell_type": "code",
   "execution_count": 55,
   "metadata": {},
   "outputs": [],
   "source": [
    "# Simulacao para cada temperatura\n",
    "for T, k in zip(vecT, range(NT)):\n",
    "    spins[:, :, :, k] = metropolis(L, N, T, J, h, kB)"
   ]
  },
  {
   "cell_type": "code",
   "execution_count": 56,
   "metadata": {},
   "outputs": [],
   "source": [
    "m = spins.sum(axis = 0).sum(axis = 0)/(L * L) # array de magnetizacao media para cada passo de monte carlo em cada temperatura"
   ]
  },
  {
   "cell_type": "code",
   "execution_count": 57,
   "metadata": {},
   "outputs": [
    {
     "data": {
      "text/plain": [
       "(1000, 51)"
      ]
     },
     "execution_count": 57,
     "metadata": {},
     "output_type": "execute_result"
    }
   ],
   "source": [
    "m.shape\n",
    "# (n, k)"
   ]
  },
  {
   "cell_type": "code",
   "execution_count": 58,
   "metadata": {},
   "outputs": [],
   "source": [
    "mm = m.mean(axis = 0) # magnetizacao media (em equilibrio termico) para cada temperatura"
   ]
  },
  {
   "cell_type": "code",
   "execution_count": 59,
   "metadata": {},
   "outputs": [
    {
     "data": {
      "image/png": "[encoded data removed]",
      "text/plain": [
       "<Figure size 432x288 with 2 Axes>"
      ]
     },
     "metadata": {},
     "output_type": "display_data"
    }
   ],
   "source": [
    "fig, ax = plt.subplots(1, 2)\n",
    "# Figuras das configuracoes\n",
    "ax[0].imshow(spins[:, :, N - 1, 0].T, aspect = 'equal', cmap = plt.cm.binary)\n",
    "ax[0].set_xlabel('i')\n",
    "ax[0].set_ylabel('j')\n",
    "\n",
    "ax[1].imshow(spins[:, :, N - 1, -1].T, aspect = 'equal', cmap = plt.cm.binary)\n",
    "ax[1].set_xlabel('i')\n",
    "ax[1].set_ylabel('j')\n",
    "\n",
    "plt.tight_layout()\n",
    "plt.show()"
   ]
  },
  {
   "cell_type": "code",
   "execution_count": 60,
   "metadata": {},
   "outputs": [
    {
     "data": {
      "image/png": "[encoded data removed]",
      "text/plain": [
       "<Figure size 432x288 with 4 Axes>"
      ]
     },
     "metadata": {},
     "output_type": "display_data"
    },
    {
     "name": "stdout",
     "output_type": "stream",
     "text": [
      "T = 0.00\n",
      "media de m = 0.00110\n",
      "desvio padrao de m = 0.26474\n",
      "desvio padrao de <m> = 0.00837\n",
      "\n",
      "T = 5.00\n",
      "media de m = -0.00716\n",
      "desvio padrao de m = 0.15406\n",
      "desvio padrao de <m> = 0.00487\n",
      "\n"
     ]
    }
   ],
   "source": [
    "fig, ax = plt.subplots(2, 2)\n",
    "# Scatter plot\n",
    "ax[0, 0].plot(m[:, 0], '.')\n",
    "ax[0, 0].axhline(m[:, 0].mean(), ls = '--', color = 'tab:red',\n",
    "                 label = r'$\\langle m \\rangle$')\n",
    "ax[0, 0].set_ylim(-1.1, 1.1)\n",
    "ax[0, 0].set_xlabel('n')\n",
    "ax[0, 0].set_ylabel('m')\n",
    "ax[0, 0].legend()\n",
    "\n",
    "ax[0, 1].plot(m[:, -1], '.')\n",
    "ax[0, 1].axhline(m[:, -1].mean(), ls = '--', color = 'tab:red',\n",
    "                 label = r'$\\langle m \\rangle$')\n",
    "ax[0, 1].set_ylim(-1.1, 1.1)\n",
    "ax[0, 1].set_xlabel('n')\n",
    "ax[0, 1].set_ylabel('m')\n",
    "ax[0, 1].legend()\n",
    "\n",
    "# Histogramas\n",
    "ax[1, 0].hist(m[:, 0], histtype = 'step')\n",
    "ax[1, 0].axvline(m[:, 0].mean(), ls = '--', color = 'tab:red',\n",
    "                 label = r'$\\langle m \\rangle$')\n",
    "ax[1, 0].set_xlim(-1, 1)\n",
    "ax[1, 0].set_xlabel('m')\n",
    "ax[1, 0].set_ylabel('Contagens')\n",
    "\n",
    "ax[1, 1].hist(m[:, -1], histtype = 'step')\n",
    "ax[1, 1].axvline(m[:, -1].mean(), ls = '--', color = 'tab:red',\n",
    "                 label = r'$\\langle m \\rangle$')\n",
    "ax[1, 1].set_xlim(-1, 1)\n",
    "ax[1, 1].set_xlabel('m')\n",
    "ax[1, 1].set_ylabel('Contagens')\n",
    "\n",
    "plt.tight_layout()\n",
    "plt.show()\n",
    "\n",
    "for k in [0, -1]:\n",
    "    print('T = {:.2f}'.format(vecT[k]))\n",
    "    print('media de m = {:.5f}'.format(mm[k]))\n",
    "    print('desvio padrao de m = {:.5f}'.format(m[:, k].std()))\n",
    "    print('desvio padrao de <m> = {:.5f}\\n'.format(m[:, k].std()/np.sqrt(N)))\n",
    "\n",
    "# comentarios:\n",
    "# m representa a magnetizacao por sitio de cada passo de monte carlo (N passos)\n",
    "# <m> representa a magnetizacao por sitio media desses N passos"
   ]
  },
  {
   "cell_type": "code",
   "execution_count": 61,
   "metadata": {},
   "outputs": [],
   "source": [
    "# Calculo da energia por sítio\n",
    "E = np.zeros((N, NT))\n",
    "for k in range(NT):\n",
    "    for n in range(N):\n",
    "        E[n, k] = H(spins[:, :, n, k], J, h)"
   ]
  },
  {
   "cell_type": "code",
   "execution_count": 62,
   "metadata": {},
   "outputs": [
    {
     "data": {
      "text/plain": [
       "(1000, 51)"
      ]
     },
     "execution_count": 62,
     "metadata": {},
     "output_type": "execute_result"
    }
   ],
   "source": [
    "E.shape"
   ]
  },
  {
   "cell_type": "code",
   "execution_count": 63,
   "metadata": {},
   "outputs": [],
   "source": [
    "Em = E.mean(axis = 0)/(L*L)"
   ]
  },
  {
   "cell_type": "code",
   "execution_count": 70,
   "metadata": {},
   "outputs": [
    {
     "data": {
      "image/png": "[encoded data removed]",
      "text/plain": [
       "<Figure size 432x288 with 2 Axes>"
      ]
     },
     "metadata": {},
     "output_type": "display_data"
    }
   ],
   "source": [
    "fig, ax = plt.subplots(2, 1, sharex = True)\n",
    "ax[0].plot(vecT, mm, '-o')\n",
    "ax[0].set_ylabel(r'$\\langle m \\rangle$')\n",
    "ax[0].set_ylim(-1.1, 1.1)\n",
    "\n",
    "ax[1].plot(vecT, Em, '-o')\n",
    "ax[1].set_xlabel('T')\n",
    "ax[1].set_ylabel(r'$\\langle E \\rangle$')\n",
    "\n",
    "\n",
    "plt.tight_layout()\n",
    "plt.show()"
   ]
  },
  {
   "cell_type": "code",
   "execution_count": null,
   "metadata": {},
   "outputs": [],
   "source": []
  }
 ],
 "metadata": {
  "kernelspec": {
   "display_name": "Python 3",
   "language": "python",
   "name": "python3"
  },
  "language_info": {
   "codemirror_mode": {
    "name": "ipython",
    "version": 3
   },
   "file_extension": ".py",
   "mimetype": "text/x-python",
   "name": "python",
   "nbconvert_exporter": "python",
   "pygments_lexer": "ipython3",
   "version": "3.6.5"
  }
 },
 "nbformat": 4,
 "nbformat_minor": 2
}
