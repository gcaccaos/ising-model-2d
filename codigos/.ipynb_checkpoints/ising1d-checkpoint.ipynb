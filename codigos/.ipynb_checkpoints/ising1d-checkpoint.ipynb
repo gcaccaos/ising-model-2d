{
 "cells": [
  {
   "cell_type": "code",
   "execution_count": 1,
   "metadata": {},
   "outputs": [],
   "source": [
    "# Importacao de pacotes\n",
    "%matplotlib inline\n",
    "\n",
    "import matplotlib.pyplot as plt\n",
    "import numpy as np\n",
    "import sympy as sp\n",
    "from numba import jit\n",
    "\n",
    "np.seterr(divide = 'ignore', invalid = 'ignore'); # ignora warnings sobre divisao por zero (no calculo da probabilidade de flipar os spins para T = 0)"
   ]
  },
  {
   "cell_type": "code",
   "execution_count": 29,
   "metadata": {},
   "outputs": [],
   "source": [
    "@jit\n",
    "def metropolis(L, N, T, J = 1, h = 0, kB = 1):\n",
    "    spins = np.random.choice([-1, +1], (L, N)) # gera uma configuracao aleatoria de spins\n",
    "    \n",
    "    # Faz N varreduras sobre o grid\n",
    "    for n in range(N):\n",
    "        # Ordem aleatoria para varrer os spins do grid\n",
    "        ordem = np.random.permutation(L)\n",
    "        \n",
    "        # Varredura sobre os spins e evolucao (flips aleatorios) devido a temperatura\n",
    "        for i in ordem:\n",
    "            # Calculo da energia para flipar o spin na posicao i\n",
    "            Eflip = 2*spins[i, n]*(J*(spins[(i - 1)%L, n] + spins[(i + 1)%L, n]) + h)\n",
    "\n",
    "            # Se Eflip < 0, flipa o spin; caso contrario, aplica-se o passo de Monte Carlo\n",
    "            if Eflip < 0:\n",
    "                spins[i, n] = - spins[i, n]\n",
    "            else:\n",
    "                Pflip = np.exp(- Eflip/(kB*T)) # probabilidade de flipar o spin na posicao i\n",
    "                if np.random.random() < Pflip:\n",
    "                    spins[i, n] = - spins[i, n]\n",
    "    return spins"
   ]
  },
  {
   "cell_type": "code",
   "execution_count": 30,
   "metadata": {},
   "outputs": [],
   "source": [
    "# Inicializacao das variaveis da simulacao\n",
    "L = 10 # tamanho do array de spins\n",
    "N = int(1e1) # numero de varreduras\n",
    "J = 1 # constante de interacao entre os spins\n",
    "h = 1 # constante de interacao do spin com o campo magnetico externo\n",
    "kB = 1 # constante de Boltzmann\n",
    "\n",
    "Tmin = 0 # temperatura minima (bem proxima de zero)\n",
    "Tmax = 15 # temperatura maxima\n",
    "DeltaT = 1 # passo das temperaturas\n",
    "vecT = np.arange(Tmin, Tmax + DeltaT, DeltaT) # vetor de temperaturas\n",
    "NT = len(vecT) # tamanho do vetor de temperaturas\n",
    "Beta = 1/(kB*vecT) # vetor de temperatura inversa\n",
    "\n",
    "spinsm = np.zeros((L, NT)) # vetor da media dos spins para as N varreduras de cada temperatura"
   ]
  },
  {
   "cell_type": "code",
   "execution_count": 31,
   "metadata": {},
   "outputs": [],
   "source": [
    "# Simulacao para cada temperatura\n",
    "for k in range(NT):\n",
    "    T = vecT[k] # obtem a temperatura\n",
    "    spins = metropolis(L, N, T, J, h, kB) # simula a configuracao de spins (Nvarr vezes)\n",
    "    spinsm[:, k] = spins.mean(axis = 1)"
   ]
  },
  {
   "cell_type": "code",
   "execution_count": 32,
   "metadata": {},
   "outputs": [],
   "source": [
    "# Calcula a media das varreduras para todas as temperaturas (axis 0)\n",
    "mm = spinsm.mean(axis = 0)\n",
    "mstd = spinsm.std(axis = 0)"
   ]
  },
  {
   "cell_type": "code",
   "execution_count": 33,
   "metadata": {},
   "outputs": [
    {
     "data": {
      "image/png": "[encoded data removed]",
      "text/plain": [
       "<Figure size 432x288 with 2 Axes>"
      ]
     },
     "metadata": {},
     "output_type": "display_data"
    }
   ],
   "source": [
    "# Média dos spins de cada elemento para cada temperatura\n",
    "plt.imshow(spinsm.T, origin = 'lower', extent = [0, L, Tmin, Tmax])\n",
    "plt.xlabel(r'Posicao, $i$')\n",
    "plt.xticks(np.arange(0.5, L, 1.0), np.arange(0, L))\n",
    "plt.ylabel(r'$Temperatura$')\n",
    "plt.yticks(np.arange(Tmin + DeltaT/2, Tmax, DeltaT), np.arange(Tmin, Tmax))\n",
    "plt.colorbar(shrink = 0.47, label = r'$\\langle \\sigma_i \\rangle$')\n",
    "plt.show()"
   ]
  },
  {
   "cell_type": "code",
   "execution_count": 34,
   "metadata": {},
   "outputs": [
    {
     "data": {
      "image/png": "[encoded data removed]",
      "text/plain": [
       "<Figure size 432x288 with 1 Axes>"
      ]
     },
     "metadata": {},
     "output_type": "display_data"
    }
   ],
   "source": [
    "# Magnetizacao media para cada temperatura\n",
    "plt.errorbar(vecT, np.abs(spinsm).mean(axis = 0), fmt = '-o', label = 'simulacao')\n",
    "\n",
    "# Resultado analitico\n",
    "mexact = np.sinh(Beta*h)/np.sqrt(np.sinh(Beta*h)**2 + np.exp(- 4*Beta*J))\n",
    "sT = sp.Symbol('T')\n",
    "mexact[0] = sp.limit(sp.sinh(h/(kB*sT))/sp.sqrt(sp.sinh(h/(kB*sT))**2 + sp.exp(- 4*J/(kB*sT))), sT, 0)\n",
    "\n",
    "plt.plot(vecT, mexact, label = 'exata')\n",
    "\n",
    "plt.xlabel('$T$')\n",
    "plt.ylabel(r'$\\langle m \\rangle$')\n",
    "plt.ylim(-1.1, 1.1)\n",
    "plt.legend()\n",
    "plt.show()"
   ]
  },
  {
   "cell_type": "code",
   "execution_count": null,
   "metadata": {},
   "outputs": [],
   "source": []
  }
 ],
 "metadata": {
  "kernelspec": {
   "display_name": "Python 3",
   "language": "python",
   "name": "python3"
  },
  "language_info": {
   "codemirror_mode": {
    "name": "ipython",
    "version": 3
   },
   "file_extension": ".py",
   "mimetype": "text/x-python",
   "name": "python",
   "nbconvert_exporter": "python",
   "pygments_lexer": "ipython3",
   "version": "3.6.5"
  }
 },
 "nbformat": 4,
 "nbformat_minor": 2
}
