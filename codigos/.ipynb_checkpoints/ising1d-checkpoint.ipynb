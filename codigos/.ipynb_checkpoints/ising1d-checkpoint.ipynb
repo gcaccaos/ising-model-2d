{
 "cells": [
  {
   "cell_type": "code",
   "execution_count": 76,
   "metadata": {},
   "outputs": [],
   "source": [
    "# Importacao de pacotes\n",
    "%matplotlib inline\n",
    "\n",
    "import matplotlib.pyplot as plt\n",
    "import numpy as np\n",
    "from numba import jit\n",
    "\n",
    "np.seterr(divide = 'ignore', invalid = 'ignore'); # ignora warnings sobre divisao por zero (no calculo da probabilidade de flipar os spins para T = 0)"
   ]
  },
  {
   "cell_type": "code",
   "execution_count": 77,
   "metadata": {},
   "outputs": [],
   "source": [
    "# Inicializacao das variaveis da simulacao\n",
    "N = 10 # tamanho do grid de spins\n",
    "Nvarr = int(1e3) # numero de varreduras\n",
    "J = 1 # constante de interacao entre os spins\n",
    "h = 0 # constante de interacao do spin com o campo magnetico externo\n",
    "kB = 1 # constante de Boltzmann\n",
    "\n",
    "Tmin = 0 # temperatura minima (bem proxima de zero)\n",
    "Tmax = 4 # temperatura maxima\n",
    "DeltaT = 0.2 # passo das temperaturas\n",
    "\n",
    "vecT = np.arange(Tmin, Tmax + DeltaT, DeltaT) # vetor de temperaturas\n",
    "NT = len(vecT) # tamanho do vetor de temperaturas\n",
    "\n",
    "vecmm = np.zeros(NT) # vetor de media das magnetizacoes das Nvarr varreduras\n",
    "vecmmstd = np.zeros(NT) # vetor de desvio padrao da media das magnetizacoes das Nvarr varreduras"
   ]
  },
  {
   "cell_type": "code",
   "execution_count": 78,
   "metadata": {},
   "outputs": [],
   "source": [
    "@jit\n",
    "def metropolis(N, Nvarr, T, J = 1, h = 0, kB = 1):\n",
    "    spins = np.random.choice([-1, +1], (N, Nvarr)) # gera uma configuracao aleatoria de spins\n",
    "    \n",
    "    # Faz Nvarr varreduras sobre o grid\n",
    "    for n in range(Nvarr):\n",
    "        # Ordem aleatoria para varrer os spins do grid\n",
    "        ordemi = np.random.permutation(N)\n",
    "        \n",
    "        # Varredura sobre os spins e evolucao (flips aleatorios) devido a temperatura\n",
    "        for i in ordemi:\n",
    "            # Calculo da energia para flipar o spin na posicao i\n",
    "            Eflip = 2*spins[i, n]*(J*(spins[(i - 1)%N, n] + spins[(i + 1)%N, n] + h))\n",
    "\n",
    "            # Se Eflip < 0, flipa o spin;\n",
    "            # caso contrario, e aplicado o passo de Monte Carlo\n",
    "            if Eflip < 0:\n",
    "                spins[i, n] = - spins[i, n]\n",
    "            else:\n",
    "                Pflip = np.exp(- Eflip/(kB*T)) # probabilidade de flipar o spin na posicao i\n",
    "                if np.random.random() < Pflip:\n",
    "                    spins[i, n] = - spins[i, n]\n",
    "    return spins\n",
    "        "
   ]
  },
  {
   "cell_type": "code",
   "execution_count": 79,
   "metadata": {},
   "outputs": [],
   "source": [
    "# Simulacao para cada temperatura\n",
    "for k in range(NT):\n",
    "    T = vecT[k] # obtem a temperatura\n",
    "    \n",
    "    spins = metropolis(N, Nvarr, T) # simula a configuracao de spins (Nvarr vezes)\n",
    "    \n",
    "    spinsm = spins.mean(axis = 1) # media da magnetizacao para as Nvarr varreduras\n",
    "    spinsstd = spins.std(axis = 1) # desvio padrao da magnetizacao\n",
    "    \n"
   ]
  },
  {
   "cell_type": "code",
   "execution_count": null,
   "metadata": {},
   "outputs": [],
   "source": []
  }
 ],
 "metadata": {
  "kernelspec": {
   "display_name": "Python 3",
   "language": "python",
   "name": "python3"
  },
  "language_info": {
   "codemirror_mode": {
    "name": "ipython",
    "version": 3
   },
   "file_extension": ".py",
   "mimetype": "text/x-python",
   "name": "python",
   "nbconvert_exporter": "python",
   "pygments_lexer": "ipython3",
   "version": "3.6.5"
  }
 },
 "nbformat": 4,
 "nbformat_minor": 2
}
